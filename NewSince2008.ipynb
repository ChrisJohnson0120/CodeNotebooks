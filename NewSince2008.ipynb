{
    "metadata": {
        "kernelspec": {
            "name": "SQL",
            "display_name": "SQL",
            "language": "sql"
        },
        "language_info": {
            "name": "sql",
            "version": ""
        }
    },
    "nbformat_minor": 2,
    "nbformat": 4,
    "cells": [
        {
            "cell_type": "markdown",
            "source": [
                "SQL Server - what's changed between 2008 and 2019?\r\n",
                "\r\n",
                "To use this notebook, select \"Add New Connection\" in the Attach To dropdown. Connect to a SQL Server 2019 test database that you are comfortable using as a playground."
            ],
            "metadata": {
                "azdata_cell_guid": "022771a1-af01-4396-a3ad-338d4ae17212"
            }
        },
        {
            "cell_type": "markdown",
            "source": [
                "2017\n",
                "\n",
                "STRING\\_AGG() can concatenate strings from a SELECT statement! You can add a separator. NULLs will not show up or add a separator. The string to be concatenated can be as complex as you like. To order the strings you need to add a WITHIN GROUP (ORDER BY \\[column\\] ASC) clause.\n",
                "\n",
                "2016\n",
                "\n",
                "STRING\\_SPLIT does the opposite, splits a string and produces a table of values based on a supplied separator. It outputs a single column table where the column name is 'value'. You can alias this table and column the same as anything else."
            ],
            "metadata": {
                "azdata_cell_guid": "2770edeb-2e8e-4825-9e90-3e15edb1ccec"
            }
        },
        {
            "cell_type": "code",
            "source": [
                "SELECT\r\n",
                "      STRING_AGG(Val.Val1,',')\r\n",
                "    , STRING_AGG(Val.Val1, '') /*If you want no separator*/\r\n",
                "    , STRING_AGG(Val.Val1, 'some big separator')\r\n",
                "FROM\r\n",
                "    (\r\n",
                "        VALUES\r\n",
                "              ('a')\r\n",
                "            , ('b')\r\n",
                "            , ('c')\r\n",
                "    ) AS Val(Val1)"
            ],
            "metadata": {
                "azdata_cell_guid": "1ff308b8-db3e-4f50-bb65-16e5e0698149",
                "tags": [
                    "hide_input"
                ]
            },
            "outputs": [],
            "execution_count": null
        },
        {
            "cell_type": "code",
            "source": [
                "SELECT\r\n",
                "      *\r\n",
                "FROM STRING_SPLIT('a,b,c,d', ',')\r\n",
                "\r\n",
                "SELECT\r\n",
                "      *\r\n",
                "FROM STRING_SPLIT('a,b,c,d', ',')/*This actually returns a table with a single column called value*/\r\n",
                "WHERE [value] = 'a'"
            ],
            "metadata": {
                "azdata_cell_guid": "8196fa9f-42e2-424e-9530-2671d676941a",
                "tags": [
                    "hide_input"
                ]
            },
            "outputs": [],
            "execution_count": null
        },
        {
            "cell_type": "markdown",
            "source": [
                "\r\n",
                "2016:\r\n",
                "\r\n",
                "CREATE OR ALTER statements for Stored Procs, Views, Functions etc.\r\n",
                "\r\n",
                "Also DROP IF EXISTS for all of these plus tables and schemas"
            ],
            "metadata": {
                "azdata_cell_guid": "f8246768-5667-4128-8b87-1f3600920741"
            }
        },
        {
            "cell_type": "code",
            "source": [
                "SELECT * FROM sys.procedures WHERE name = 'Test1'"
            ],
            "metadata": {
                "azdata_cell_guid": "bb45dbc2-3e87-49c0-84a1-df4531987c61"
            },
            "outputs": [],
            "execution_count": null
        },
        {
            "cell_type": "code",
            "source": [
                "DROP PROCEDURE IF EXISTS dbo.Test1"
            ],
            "metadata": {
                "azdata_cell_guid": "f2f94b06-cbd6-47e9-b60f-1150254be6e5"
            },
            "outputs": [],
            "execution_count": null
        },
        {
            "cell_type": "code",
            "source": [
                "CREATE OR ALTER PROCEDURE dbo.Test1\r\n",
                "AS\r\n",
                "    SELECT 'Test'\r\n",
                "GO"
            ],
            "metadata": {
                "azdata_cell_guid": "8e0341b9-a8a1-4c59-b16e-ee11f721b874",
                "tags": [
                    "hide_input"
                ]
            },
            "outputs": [],
            "execution_count": null
        },
        {
            "cell_type": "code",
            "source": [
                "EXEC dbo.Test1"
            ],
            "metadata": {
                "azdata_cell_guid": "756cc69a-f44b-4506-a528-527aca096aa7"
            },
            "outputs": [],
            "execution_count": null
        },
        {
            "cell_type": "code",
            "source": [
                "CREATE OR ALTER PROCEDURE dbo.Test1\r\n",
                "AS\r\n",
                "    SELECT 'Test1'\r\n",
                "GO\r\n",
                "\r\n",
                "EXEC dbo.Test1"
            ],
            "metadata": {
                "azdata_cell_guid": "96d2f8ae-cf21-49c4-9a2b-1082931b9f71",
                "tags": [
                    "hide_input"
                ]
            },
            "outputs": [],
            "execution_count": null
        },
        {
            "cell_type": "markdown",
            "source": [
                "2012:\r\n",
                "\r\n",
                "Sequence objects. These are an alternative to IDENTITY columns. They are objects that generate an incrementing sequence of numbers. To get the next number use NEXT VALUE FOR [sequence object]. They are more flexible than IDENTITY columns, allow uniqueness across different columns/tables, and allow inserts into identity columns as standard. To use them for identity columns set the column default to NEXT VALUE FOR."
            ],
            "metadata": {
                "azdata_cell_guid": "a03d629e-e352-4c73-8f01-1b430e8a0b19"
            }
        },
        {
            "cell_type": "code",
            "source": [
                "CREATE SEQUENCE dbo.TestSequence AS INT\r\n",
                "START WITH 1 -- start sequence at 1\r\n",
                "INCREMENT BY 1 -- increment by 1 each time\r\n",
                "MINVALUE 1 -- value can never be lower than 1\r\n",
                "MAXVALUE 100000 -- value can never be higher than 100000\r\n",
                "CYCLE -- when next value is greater than 100000, cycle back to 0"
            ],
            "metadata": {
                "azdata_cell_guid": "584438ad-c0ae-4250-811b-a7179a39328a",
                "tags": [
                    "hide_input"
                ]
            },
            "outputs": [],
            "execution_count": 15
        },
        {
            "cell_type": "code",
            "source": [
                "SELECT NEXT VALUE FOR dbo.TestSequence"
            ],
            "metadata": {
                "azdata_cell_guid": "e730e0a2-cca7-4928-b851-4262f861b988"
            },
            "outputs": [],
            "execution_count": 23
        },
        {
            "cell_type": "markdown",
            "source": [
                "THROW can now be used to either raise an error or throw an error in the CATCH section of a TRY CATCH block"
            ],
            "metadata": {
                "azdata_cell_guid": "12e1c3c5-06cd-41e6-87b8-d044882725e1"
            }
        },
        {
            "cell_type": "code",
            "source": [
                "THROW\r\n",
                "      50001 /* error number, made up by coder */\r\n",
                "    , 'An error has occurred'\r\n",
                "    , 1 /* state associated with the error */"
            ],
            "metadata": {
                "azdata_cell_guid": "ca0cf59e-534f-4f8c-b553-35702c4da2a7",
                "tags": [
                    "hide_input"
                ]
            },
            "outputs": [],
            "execution_count": 24
        },
        {
            "cell_type": "code",
            "source": [
                "BEGIN TRY\n",
                "    RAISERROR ('An error message from inside the TRY block', 16, 1)\n",
                "END TRY\n",
                "BEGIN CATCH\n",
                "    -- Something to handle/log error can go here e.g. ROLLBACK\n",
                "    print 'error handled'; -- note, THROW needs the previous statement to terminate with a ';'\n",
                "    THROW\n",
                "    print 'if you reach this, you''ve gone too far' -- this will not be called as the THROW returns control to the caller\n",
                "END CATCH"
            ],
            "metadata": {
                "azdata_cell_guid": "51f1f3b4-1b68-4c8b-82eb-c2138749b24a",
                "tags": [
                    "hide_input"
                ]
            },
            "outputs": [],
            "execution_count": 30
        },
        {
            "cell_type": "markdown",
            "source": [
                "Data conversions have the TRY_CAST and TRY_Convert functions. These both return NULL if the conversion is not possible, instead of throwing an error."
            ],
            "metadata": {
                "azdata_cell_guid": "865fee8f-c089-4735-89a4-80b805389d7c"
            }
        },
        {
            "cell_type": "code",
            "source": [
                "SELECT\r\n",
                "      TRY_CAST('01-jan-2020' AS DATE) AS ValidCast\r\n",
                "    , TRY_CAST('41-Jan-2020' AS DATE) AS InvalidCast\r\n",
                "    , TRY_CONVERT(DATETIME2, '01-Feb-2020', 101) AS ValidConvert\r\n",
                "    , TRY_CONVERT(DATETIME2, '30-Feb-2020', 101) AS InvalidConvert"
            ],
            "metadata": {
                "azdata_cell_guid": "a28fb653-827c-4906-8baa-12dc568008d8",
                "tags": [
                    "hide_input"
                ]
            },
            "outputs": [],
            "execution_count": 13
        },
        {
            "cell_type": "markdown",
            "source": [
                "We also now have the PARSE and TRY_PARSE functions. These largely works like their CAST equivalents, but allow you to specify a region e.g. for money, and succeed more often"
            ],
            "metadata": {
                "azdata_cell_guid": "c612ae34-3aef-47e7-a8f5-0f6f4eaba684"
            }
        },
        {
            "cell_type": "code",
            "source": [
                "SELECT\r\n",
                "      PARSE('Saturday 1 February 2020' AS DATETIME2 USING 'en-US') AS SuccessfulParse\r\n",
                "    , TRY_PARSE('Blergh' AS DATETIME2 USING 'en-US') AS FailedParse\r\n",
                "    , TRY_PARSE('Saturday 02/01/2020' AS DATETIME2 USING 'en-US') AS SuccessfulUSDateParse -- we switch to parsing the date in the US format\r\n",
                "    , TRY_PARSE('$40.00' AS MONEY USING 'en-US') AS SuccessfulDollarParse\r\n",
                "    , TRY_PARSE('£40.00' AS MONEY USING 'en-US') AS FailedPoundParse -- this fails because we are converting from American money but have a pound sign"
            ],
            "metadata": {
                "azdata_cell_guid": "78dc101f-85e9-4db2-90f8-c6db48fb6e70",
                "tags": [
                    "hide_input"
                ]
            },
            "outputs": [],
            "execution_count": 16
        },
        {
            "cell_type": "markdown",
            "source": [
                "CONCAT allows us to concatenate strings more easily. It automatically turns NULLs to empty strings, and converts to the most appropriate data type."
            ],
            "metadata": {
                "azdata_cell_guid": "4fa0731a-0a4c-41a5-af36-ad475f4d2665"
            }
        },
        {
            "cell_type": "code",
            "source": [
                "SELECT CONCAT('Hello', ' ', 'world'), CONCAT('Hello', '/', NULL, 'wo', 'r', NULL, 'ld', '.')"
            ],
            "metadata": {
                "azdata_cell_guid": "d9cf7b34-a975-4433-b0a6-6bdfa41919c3"
            },
            "outputs": [],
            "execution_count": 17
        },
        {
            "cell_type": "markdown",
            "source": [
                "New date functions to make dates easier to manage. DATEFROMPARTS allows you to generate a date from component parts. There are similar functions for all other date/time data types. ALso EOMONTH returns the last day of the month for the date entered."
            ],
            "metadata": {
                "azdata_cell_guid": "c27240c1-1218-48d0-b003-13141fbb8115"
            }
        },
        {
            "cell_type": "code",
            "source": [
                "SELECT\r\n",
                "      DATEFROMPARTS(2019, 4, 15) AS DateFromParts1 -- can generate a date from year, month, day\r\n",
                "    , DATEFROMPARTS(YEAR(GETDATE()), MONTH(GETDATE()), 1) AS DateFromParts1stOfMonth -- e.g. 1st day of current month\r\n",
                "    , EOMONTH(GETDATE()) AS EOMonthCurrentDate -- returns last day of month for date entered e.g. last day of current month\r\n",
                "    , EOMONTH(GETDATE(), 3) AS EOMonth3MonthsLater -- Can add or subtract dates e.g. last day of month 3 months in future"
            ],
            "metadata": {
                "azdata_cell_guid": "15924b00-797b-4fb9-a690-865c0e907e1e",
                "tags": [
                    "hide_input"
                ]
            },
            "outputs": [],
            "execution_count": 2
        },
        {
            "cell_type": "markdown",
            "source": [
                "CHOOSE and IIF as alternatives to CASE statements.\r\n",
                "\r\n",
                "CHOOSE allows you to pick from a list. IIF returns A or B depending on if an expression is true or not."
            ],
            "metadata": {
                "azdata_cell_guid": "85591edd-091b-43d8-9d25-a96de1ce35bb"
            }
        },
        {
            "cell_type": "code",
            "source": [
                "SELECT\r\n",
                "      CHOOSE(3, 'this', 'is', 'the', 'array') AS CHOOSEExample -- 1st argument is the index position, starting at 1, all other arguments make up the array\r\n",
                "    , IIF(1 > 2, 1, 2) AS IIFExample -- argument 2 is returned if argument 1 evaluates to true, otherwise argument 3 is returned\r\n",
                "\r\n",
                "DECLARE @ExampleTable AS TABLE\r\n",
                "    (\r\n",
                "          ChooseExampleColumn INT NOT NULL\r\n",
                "        , IifExampleColumn BIT NOT NULL\r\n",
                "    )\r\n",
                "INSERT INTO @ExampleTable\r\n",
                "    (\r\n",
                "          ChooseExampleColumn\r\n",
                "        , IifExampleColumn\r\n",
                "    )\r\n",
                "VALUES\r\n",
                "      (1, 'TRUE')\r\n",
                "    , (2, 'FALSE')\r\n",
                "    , (1, 'FALSE')\r\n",
                "    , (5, 'TRUE')\r\n",
                "\r\n",
                "SELECT -- you can use these with values in a column\r\n",
                "      ChooseExampleColumn\r\n",
                "    , CHOOSE(ChooseExampleColumn, 'value1', 'value2', 'value3', 'value4', 'value5', 'value6', 'value7') AS ChooseExample /* use the ChooseExampleColumn as the index */\r\n",
                "    , IifExampleColumn\r\n",
                "    , IIF(IifExampleColumn = 'TRUE', 'TRUE', 'NOT TRUE') AS IifExample\r\n",
                "FROM @ExampleTable"
            ],
            "metadata": {
                "azdata_cell_guid": "8d0219d4-0785-414e-988c-29899db6a7f3",
                "tags": [
                    "hide_input"
                ]
            },
            "outputs": [],
            "execution_count": null
        },
        {
            "cell_type": "markdown",
            "source": [
                "Window functions now include a ROWS/RANGE clause. Both essentially add another restriction alongside the partition when making values available to the aggregate function.\n",
                "\n",
                "ROWS specifies the number of rows ahead/behind the current row in the ORDER BY clause. It includes an UNBOUNDED option and a CURRENT ROW option. If nothing is specified the query assumes ROWS UNBOUND PRECEDING.\n",
                "\n",
                "RANGE works the same as ROWS except it works on the ORDER BY position instead of the row. It cannot use N PRECEDING/FOLLOWING."
            ],
            "metadata": {
                "azdata_cell_guid": "b363db64-f087-4f45-a5f2-627e718bcad9"
            }
        },
        {
            "cell_type": "code",
            "source": [
                "DECLARE @ExampleTable AS TABLE\r\n",
                "    (\r\n",
                "          Col1 INT NOT NULL\r\n",
                "        , PartitionColumn INT NOT NULL\r\n",
                "    );\r\n",
                "INSERT INTO @ExampleTable\r\n",
                "    (\r\n",
                "          Col1\r\n",
                "        , PartitionColumn\r\n",
                "    )\r\n",
                "VALUES\r\n",
                "      (1, 1)\r\n",
                "    , (2, 1)\r\n",
                "    , (3, 1)\r\n",
                "    , (4, 1)\r\n",
                "    , (5, 1)\r\n",
                "    , (5, 1)\r\n",
                "    , (1, 2)\r\n",
                "    , (2, 2)\r\n",
                "    , (3, 2);\r\n",
                "\r\n",
                "SELECT\r\n",
                "      Col1\r\n",
                "    , PartitionColumn\r\n",
                "    , SUM(Col1) OVER (PARTITION BY PartitionColumn ORDER BY Col1 ROWS BETWEEN UNBOUNDED PRECEDING AND CURRENT ROW)\r\n",
                "    , SUM(Col1) OVER (PARTITION BY PartitionColumn ORDER BY Col1 ROWS UNBOUNDED PRECEDING) /* Assumes other side is CURRENT ROW */\r\n",
                "    , SUM(Col1) OVER (PARTITION BY PartitionColumn ORDER BY Col1 RANGE UNBOUNDED PRECEDING)\r\n",
                "    , SUM(Col1) OVER (PARTITION BY PartitionColumn ORDER BY Col1 ROWS BETWEEN 2 PRECEDING AND 2 FOLLOWING)\r\n",
                "FROM @ExampleTable"
            ],
            "metadata": {
                "azdata_cell_guid": "dce93b97-345f-4278-99ae-4c67cb1c4030",
                "tags": []
            },
            "outputs": [],
            "execution_count": null
        },
        {
            "cell_type": "markdown",
            "source": [
                "FORMAT returns an inputted value formatted using a .NET Framework format string. It can also specify culture e.g. for date formatting."
            ],
            "metadata": {
                "azdata_cell_guid": "abbd4f64-ede9-40fe-ad04-be86929fb456"
            }
        },
        {
            "cell_type": "code",
            "source": [
                "SELECT\r\n",
                "      FORMAT(1234, '###-##.00')\r\n",
                "    , FORMAT(1234, '0###-##.00')\r\n",
                "    , FORMAT(CAST('01-jan-2020' AS DATE), 'D', 'en-gb')\r\n",
                "    , FORMAT(CAST('01-jan-2020' AS DATE), 'D', 'en-us')\r\n",
                "    , FORMAT(CAST('02-jan-2020' AS DATE), 'd', 'en-gb')\r\n",
                "    , FORMAT(CAST('02-jan-2020' AS DATE), 'd', 'en-us')\r\n",
                "    , FORMAT(25, 'C', 'en-us') /* Currency */\r\n",
                "    , FORMAT(CAST('02-jan-2020' AS DATE), 'MM-yyyy-dd')\r\n",
                "    , FORMAT(CAST('10:15' AS TIME), 'mm\\.hh') /* . and : must be escaped in the format string */"
            ],
            "metadata": {
                "azdata_cell_guid": "0eb913e1-96b4-4228-8aeb-0597e27aa7f6",
                "tags": [
                    "hide_input"
                ]
            },
            "outputs": [],
            "execution_count": null
        },
        {
            "cell_type": "markdown",
            "source": [
                "LEAD/LAG windowed functions return the prevous/next values in the result set without needing a self join. You can define the offset, but the default is 1. You can define the value to be returned when the offset value does not exist, the default for that is NULL."
            ],
            "metadata": {
                "azdata_cell_guid": "031a0f1a-f791-4bbe-be1b-7ae093c77cb2"
            }
        },
        {
            "cell_type": "code",
            "source": [
                "DECLARE @ExampleTable AS TABLE\r\n",
                "    (\r\n",
                "          Col1 INT NOT NULL\r\n",
                "        , PartitionColumn INT NOT NULL\r\n",
                "    );\r\n",
                "INSERT INTO @ExampleTable\r\n",
                "    (\r\n",
                "          Col1\r\n",
                "        , PartitionColumn\r\n",
                "    )\r\n",
                "VALUES\r\n",
                "      (1, 1)\r\n",
                "    , (2, 1)\r\n",
                "    , (3, 1)\r\n",
                "    , (4, 1)\r\n",
                "    , (5, 1)\r\n",
                "    , (5, 1)\r\n",
                "    , (1, 2)\r\n",
                "    , (2, 2)\r\n",
                "    , (3, 2);\r\n",
                "\r\n",
                "SELECT\r\n",
                "      Col1\r\n",
                "    , PartitionColumn\r\n",
                "    , LEAD(Col1) OVER(PARTITION BY PartitionColumn ORDER BY Col1)\r\n",
                "    , LAG(Col1, 2, 0) OVER(PARTITION BY PartitionColumn ORDER BY Col1)\r\n",
                "FROM @ExampleTable"
            ],
            "metadata": {
                "azdata_cell_guid": "adb5994e-6e9b-4fa7-b446-2b4ba6ecff13",
                "tags": [
                    "hide_input"
                ]
            },
            "outputs": [],
            "execution_count": null
        },
        {
            "cell_type": "markdown",
            "source": [
                "PERCENTILE\\_RANK/PERCENTILE\\_CONT/PERCENTILE\\_DISC/CUME\\_DISC"
            ],
            "metadata": {
                "azdata_cell_guid": "a88f0022-21e6-4b14-9f38-0ac9532f1073"
            }
        }
    ]
}